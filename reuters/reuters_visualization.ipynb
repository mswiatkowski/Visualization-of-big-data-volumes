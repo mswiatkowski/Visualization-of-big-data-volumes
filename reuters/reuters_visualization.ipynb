{
 "cells": [
  {
   "cell_type": "code",
   "execution_count": 1,
   "id": "little-junction",
   "metadata": {},
   "outputs": [],
   "source": [
    "import pandas as pd\n",
    "import numpy as np\n",
    "from sklearn.model_selection import train_test_split\n",
    "import matplotlib.pyplot as plt\n",
    "import time\n",
    "%matplotlib inline"
   ]
  },
  {
   "cell_type": "markdown",
   "id": "naval-integrity",
   "metadata": {},
   "source": [
    "### Handy utility functions"
   ]
  },
  {
   "cell_type": "code",
   "execution_count": 2,
   "id": "emotional-equilibrium",
   "metadata": {},
   "outputs": [],
   "source": [
    "def project_into_space(X_embedded, labels, class_names=None):\n",
    "    \"\"\"Function draws data embedded into 2-dimensional vector space\"\"\"\n",
    "    \n",
    "    fig, plot = plt.subplots()\n",
    "    fig.set_size_inches(16, 16)\n",
    "    plt.prism()\n",
    "    for i in range(len(set(labels))):\n",
    "        digit_indeces = (labels == i)\n",
    "        dim1 = X_embedded[digit_indeces, 0]\n",
    "        dim2 = X_embedded[digit_indeces, 1]\n",
    "        if class_names != None:\n",
    "            plot.scatter(dim1, dim2, label = class_names[i])\n",
    "        else:\n",
    "            plot.scatter(dim1, dim2, label = i)\n",
    "    \n",
    "    plot.set_xticks(())\n",
    "    plot.set_yticks(())\n",
    "    plt.tight_layout()\n",
    "    plt.legend()\n",
    "    plt.show()\n",
    "    \n",
    "def save_to_txt(data, labels, file_path):\n",
    "    \"\"\"Function saves data to file with extension .txt\"\"\"\n",
    "    \n",
    "    df = pd.DataFrame(data)\n",
    "    df['labels'] = labels\n",
    "    np.savetxt(file_path, df, fmt='%d')\n",
    "\n",
    "# *args are arguments of function named func\n",
    "def measure_time(func, *args):\n",
    "    \"\"\"Function measures program's time execution\"\"\"\n",
    "    \n",
    "    start_time = time.time()\n",
    "    prog = func(*args)\n",
    "    end_time = time.time()\n",
    "    \n",
    "    return end_time - start_time"
   ]
  },
  {
   "cell_type": "markdown",
   "id": "5dd2dc63",
   "metadata": {},
   "source": [
    "### Constants"
   ]
  },
  {
   "cell_type": "code",
   "execution_count": 3,
   "id": "0cbee291",
   "metadata": {},
   "outputs": [],
   "source": [
    "TIME_DICT = {\n",
    "    'umap_time' : None,\n",
    "    'humap_time' : None,\n",
    "    'trimap_time': None,\n",
    "    'pacmap_time' : None,\n",
    "    'isomap_time' : None,\n",
    "    # 'ivhd_time' : None, it will be saved on disc using bash command\n",
    "}"
   ]
  },
  {
   "cell_type": "code",
   "execution_count": 4,
   "id": "c0236131",
   "metadata": {},
   "outputs": [],
   "source": [
    "TRUSTWORTHINESS_DICT = {\n",
    "    'umap' : None,\n",
    "    'humap' : None,\n",
    "    'trimap': None,\n",
    "    'pacmap' : None,\n",
    "    'isomap' : None,\n",
    "    'ivhd' : None\n",
    "}"
   ]
  },
  {
   "cell_type": "markdown",
   "id": "foreign-therapist",
   "metadata": {},
   "source": [
    "### Data preparation"
   ]
  },
  {
   "cell_type": "code",
   "execution_count": 5,
   "id": "underlying-highway",
   "metadata": {},
   "outputs": [],
   "source": [
    "df = pd.read_csv(\"reuters.csv\", header = None)"
   ]
  },
  {
   "cell_type": "code",
   "execution_count": 6,
   "id": "sudden-distributor",
   "metadata": {},
   "outputs": [
    {
     "data": {
      "text/html": [
       "<div>\n",
       "<style scoped>\n",
       "    .dataframe tbody tr th:only-of-type {\n",
       "        vertical-align: middle;\n",
       "    }\n",
       "\n",
       "    .dataframe tbody tr th {\n",
       "        vertical-align: top;\n",
       "    }\n",
       "\n",
       "    .dataframe thead th {\n",
       "        text-align: right;\n",
       "    }\n",
       "</style>\n",
       "<table border=\"1\" class=\"dataframe\">\n",
       "  <thead>\n",
       "    <tr style=\"text-align: right;\">\n",
       "      <th></th>\n",
       "      <th>0</th>\n",
       "      <th>1</th>\n",
       "      <th>2</th>\n",
       "      <th>3</th>\n",
       "      <th>4</th>\n",
       "      <th>5</th>\n",
       "      <th>6</th>\n",
       "      <th>7</th>\n",
       "      <th>8</th>\n",
       "      <th>9</th>\n",
       "      <th>...</th>\n",
       "      <th>21</th>\n",
       "      <th>22</th>\n",
       "      <th>23</th>\n",
       "      <th>24</th>\n",
       "      <th>25</th>\n",
       "      <th>26</th>\n",
       "      <th>27</th>\n",
       "      <th>28</th>\n",
       "      <th>29</th>\n",
       "      <th>30</th>\n",
       "    </tr>\n",
       "  </thead>\n",
       "  <tbody>\n",
       "    <tr>\n",
       "      <th>0</th>\n",
       "      <td>-0.321083</td>\n",
       "      <td>-0.404147</td>\n",
       "      <td>0.445883</td>\n",
       "      <td>0.382766</td>\n",
       "      <td>-0.122047</td>\n",
       "      <td>-0.270134</td>\n",
       "      <td>-0.298279</td>\n",
       "      <td>0.718103</td>\n",
       "      <td>-0.150981</td>\n",
       "      <td>0.059461</td>\n",
       "      <td>...</td>\n",
       "      <td>-0.264962</td>\n",
       "      <td>-0.496864</td>\n",
       "      <td>-0.036874</td>\n",
       "      <td>0.016653</td>\n",
       "      <td>0.152996</td>\n",
       "      <td>-0.319059</td>\n",
       "      <td>0.081143</td>\n",
       "      <td>-0.040009</td>\n",
       "      <td>-0.403128</td>\n",
       "      <td>3</td>\n",
       "    </tr>\n",
       "    <tr>\n",
       "      <th>1</th>\n",
       "      <td>-0.152249</td>\n",
       "      <td>0.294370</td>\n",
       "      <td>0.265483</td>\n",
       "      <td>0.688660</td>\n",
       "      <td>0.038191</td>\n",
       "      <td>-0.415186</td>\n",
       "      <td>-0.329281</td>\n",
       "      <td>0.345786</td>\n",
       "      <td>-0.399271</td>\n",
       "      <td>0.704776</td>\n",
       "      <td>...</td>\n",
       "      <td>0.232510</td>\n",
       "      <td>0.421494</td>\n",
       "      <td>-0.060480</td>\n",
       "      <td>-0.235124</td>\n",
       "      <td>0.607076</td>\n",
       "      <td>-0.383684</td>\n",
       "      <td>0.232053</td>\n",
       "      <td>-0.991506</td>\n",
       "      <td>-0.054636</td>\n",
       "      <td>3</td>\n",
       "    </tr>\n",
       "    <tr>\n",
       "      <th>2</th>\n",
       "      <td>0.082086</td>\n",
       "      <td>0.340687</td>\n",
       "      <td>0.248056</td>\n",
       "      <td>-0.010383</td>\n",
       "      <td>0.695413</td>\n",
       "      <td>0.149643</td>\n",
       "      <td>-0.198109</td>\n",
       "      <td>0.346196</td>\n",
       "      <td>0.667757</td>\n",
       "      <td>0.034899</td>\n",
       "      <td>...</td>\n",
       "      <td>0.051610</td>\n",
       "      <td>0.260261</td>\n",
       "      <td>-0.163970</td>\n",
       "      <td>0.258422</td>\n",
       "      <td>0.446924</td>\n",
       "      <td>-0.274086</td>\n",
       "      <td>-0.700739</td>\n",
       "      <td>0.351685</td>\n",
       "      <td>0.260021</td>\n",
       "      <td>8</td>\n",
       "    </tr>\n",
       "    <tr>\n",
       "      <th>3</th>\n",
       "      <td>0.746292</td>\n",
       "      <td>-0.272971</td>\n",
       "      <td>0.377067</td>\n",
       "      <td>0.376738</td>\n",
       "      <td>0.219068</td>\n",
       "      <td>0.097258</td>\n",
       "      <td>0.046317</td>\n",
       "      <td>0.220140</td>\n",
       "      <td>-0.552237</td>\n",
       "      <td>-0.715820</td>\n",
       "      <td>...</td>\n",
       "      <td>0.303420</td>\n",
       "      <td>0.326550</td>\n",
       "      <td>-0.050682</td>\n",
       "      <td>-0.149457</td>\n",
       "      <td>0.265477</td>\n",
       "      <td>-0.049503</td>\n",
       "      <td>0.320001</td>\n",
       "      <td>-0.018446</td>\n",
       "      <td>-0.667884</td>\n",
       "      <td>3</td>\n",
       "    </tr>\n",
       "    <tr>\n",
       "      <th>4</th>\n",
       "      <td>-0.236611</td>\n",
       "      <td>-0.126992</td>\n",
       "      <td>0.093227</td>\n",
       "      <td>-0.319109</td>\n",
       "      <td>-0.172933</td>\n",
       "      <td>-0.290441</td>\n",
       "      <td>0.211179</td>\n",
       "      <td>-0.481647</td>\n",
       "      <td>-0.587505</td>\n",
       "      <td>-0.294355</td>\n",
       "      <td>...</td>\n",
       "      <td>-0.150034</td>\n",
       "      <td>0.040017</td>\n",
       "      <td>0.259089</td>\n",
       "      <td>-0.401915</td>\n",
       "      <td>-0.086596</td>\n",
       "      <td>0.004713</td>\n",
       "      <td>0.080239</td>\n",
       "      <td>0.238591</td>\n",
       "      <td>0.005965</td>\n",
       "      <td>1</td>\n",
       "    </tr>\n",
       "  </tbody>\n",
       "</table>\n",
       "<p>5 rows × 31 columns</p>\n",
       "</div>"
      ],
      "text/plain": [
       "         0         1         2         3         4         5         6   \\\n",
       "0 -0.321083 -0.404147  0.445883  0.382766 -0.122047 -0.270134 -0.298279   \n",
       "1 -0.152249  0.294370  0.265483  0.688660  0.038191 -0.415186 -0.329281   \n",
       "2  0.082086  0.340687  0.248056 -0.010383  0.695413  0.149643 -0.198109   \n",
       "3  0.746292 -0.272971  0.377067  0.376738  0.219068  0.097258  0.046317   \n",
       "4 -0.236611 -0.126992  0.093227 -0.319109 -0.172933 -0.290441  0.211179   \n",
       "\n",
       "         7         8         9   ...        21        22        23        24  \\\n",
       "0  0.718103 -0.150981  0.059461  ... -0.264962 -0.496864 -0.036874  0.016653   \n",
       "1  0.345786 -0.399271  0.704776  ...  0.232510  0.421494 -0.060480 -0.235124   \n",
       "2  0.346196  0.667757  0.034899  ...  0.051610  0.260261 -0.163970  0.258422   \n",
       "3  0.220140 -0.552237 -0.715820  ...  0.303420  0.326550 -0.050682 -0.149457   \n",
       "4 -0.481647 -0.587505 -0.294355  ... -0.150034  0.040017  0.259089 -0.401915   \n",
       "\n",
       "         25        26        27        28        29  30  \n",
       "0  0.152996 -0.319059  0.081143 -0.040009 -0.403128   3  \n",
       "1  0.607076 -0.383684  0.232053 -0.991506 -0.054636   3  \n",
       "2  0.446924 -0.274086 -0.700739  0.351685  0.260021   8  \n",
       "3  0.265477 -0.049503  0.320001 -0.018446 -0.667884   3  \n",
       "4 -0.086596  0.004713  0.080239  0.238591  0.005965   1  \n",
       "\n",
       "[5 rows x 31 columns]"
      ]
     },
     "execution_count": 6,
     "metadata": {},
     "output_type": "execute_result"
    }
   ],
   "source": [
    "df.head(5)"
   ]
  },
  {
   "cell_type": "code",
   "execution_count": 7,
   "id": "plain-paintball",
   "metadata": {},
   "outputs": [],
   "source": [
    "SAMPLE_SIZE_SMALL = 30000\n",
    "SAMPLE_SIZE_TINY = 10000\n",
    "\n",
    "full = np.array(df, dtype='float32')\n",
    "\n",
    "X_full = full[:, :-1]\n",
    "y_full = full[:,-1].astype('int')\n",
    "\n",
    "X_small = X_full[:SAMPLE_SIZE_SMALL]\n",
    "y_small = y_full[:SAMPLE_SIZE_SMALL]\n",
    "\n",
    "X_tiny = X_full[:SAMPLE_SIZE_TINY]\n",
    "y_tiny = y_full[:SAMPLE_SIZE_TINY]\n",
    "\n",
    "df_full = pd.DataFrame(X_full)\n",
    "df_full.to_csv('./reuters_full_no_labels.csv', header = False, index = False)\n",
    "\n",
    "df_labels = pd.DataFrame(y_full)\n",
    "df_labels.to_csv('./reuters_full_labels.csv', header = False, index = False)"
   ]
  },
  {
   "cell_type": "markdown",
   "id": "bridal-lending",
   "metadata": {},
   "source": [
    "### UMAP"
   ]
  },
  {
   "cell_type": "code",
   "execution_count": 12,
   "id": "institutional-powder",
   "metadata": {},
   "outputs": [],
   "source": [
    "import umap.umap_ as umap"
   ]
  },
  {
   "cell_type": "code",
   "execution_count": 8,
   "id": "muslim-equivalent",
   "metadata": {},
   "outputs": [],
   "source": [
    "umap_reuters = umap.UMAP(random_state=42)\n",
    "\n",
    "umap_start_time = time.time()\n",
    "X_umap_reuters_embedding = umap_reuters.fit_transform(X_full)\n",
    "umap_end_time = time.time()\n",
    "\n",
    "TIME_DICT['umap_time'] = umap_end_time - umap_start_time"
   ]
  },
  {
   "cell_type": "code",
   "execution_count": 9,
   "id": "happy-rental",
   "metadata": {
    "scrolled": false
   },
   "outputs": [],
   "source": [
    "project_into_space(X_umap_reuters_embedding, y_full)"
   ]
  },
  {
   "cell_type": "code",
   "execution_count": 12,
   "id": "7d306610",
   "metadata": {},
   "outputs": [],
   "source": [
    "save_to_txt(X_umap_reuters_embedding, y_full, './reuters_embeddings_txt/reuters_full_umap_embedding.txt')"
   ]
  },
  {
   "cell_type": "code",
   "execution_count": 10,
   "id": "155a2fc6",
   "metadata": {},
   "outputs": [],
   "source": [
    "TIME_DICT['umap_time']"
   ]
  },
  {
   "cell_type": "markdown",
   "id": "executed-admission",
   "metadata": {},
   "source": [
    "### HUMAP"
   ]
  },
  {
   "cell_type": "code",
   "execution_count": 13,
   "id": "controversial-vacation",
   "metadata": {},
   "outputs": [],
   "source": [
    "import humap"
   ]
  },
  {
   "cell_type": "code",
   "execution_count": 14,
   "id": "literary-kelly",
   "metadata": {
    "scrolled": false
   },
   "outputs": [
    {
     "name": "stdout",
     "output_type": "stream",
     "text": [
      "\n",
      "\n",
      "*************************************************************************\n",
      "*********************************LEVEL 0*********************************\n",
      "*************************************************************************\n",
      "\n",
      "Level 0 with 10000 data samples.\n",
      "Fitting the first hierarchy level... \n",
      "done in 156.799981 seconds.\n",
      "\n",
      "\n",
      "*************************************************************************\n",
      "*********************************LEVEL 1*********************************\n",
      "*************************************************************************\n",
      "\n",
      "Level 1: 2000 data samples.Computing random walks for sampling selection... \n",
      "done in 0.033053 seconds.\n",
      "Computing random walks for constucting representation neighborhood... \n",
      "done in 0.083105 seconds.\n",
      "Computing similarity among landmarks... \n",
      "done in 0.397413 seconds.\n",
      "Fitting the hierarchy level... \n",
      "done in 0.125766 seconds.\n",
      "Associating data points to landmarks... \n",
      "done in 0.003719 seconds.\n",
      "Storing information for the next hierarchy level... \n",
      "done in 0.415907 seconds.\n",
      "Level construction: 1.063312\n",
      "\n",
      "\n",
      "\n",
      "*************************************************************************\n",
      "*********************************LEVEL 2*********************************\n",
      "*************************************************************************\n",
      "\n",
      "Level 2: 400 data samples.Computing random walks for sampling selection... \n",
      "done in 0.005192 seconds.\n",
      "Computing random walks for constucting representation neighborhood... \n",
      "done in 0.005931 seconds.\n",
      "Computing similarity among landmarks... \n",
      "done in 0.184432 seconds.\n",
      "Fitting the hierarchy level... \n",
      "done in 0.014124 seconds.\n",
      "Associating data points to landmarks... \n",
      "done in 0.000801 seconds.\n",
      "Storing information for the next hierarchy level... \n",
      "done in 0.258820 seconds.\n",
      "Level construction: 0.469594\n",
      "\n",
      "\n",
      "Hierarchy construction in 484.797085 seconds.\n",
      "\n",
      "Initing low-dimensional representation... done in 4.92542 seconds.\n",
      "Fixing term: 0.01\n",
      "Embedding level 1 with 2000 data samples.\n",
      "\n",
      "\n",
      "\tcompleted 0 / 500 epochs\n",
      "\tcompleted 50 / 500 epochs\n",
      "\tcompleted 100 / 500 epochs\n",
      "\tcompleted 150 / 500 epochs\n",
      "\tcompleted 200 / 500 epochs\n",
      "\tcompleted 250 / 500 epochs\n",
      "\tcompleted 300 / 500 epochs\n",
      "\tcompleted 350 / 500 epochs\n",
      "\tcompleted 400 / 500 epochs\n",
      "\tcompleted 450 / 500 epochs\n",
      "\tcompleted 500 epochs\n",
      "\n",
      "It took 7.06086 to embed.\n"
     ]
    }
   ],
   "source": [
    "hUmap = humap.HUMAP()\n",
    "\n",
    "humap_start_time = time.time()\n",
    "\n",
    "hUmap.fit(X_tiny, y_tiny)\n",
    "humap_embedding_l1 = hUmap.transform(1)\n",
    "\n",
    "humap_end_time = time.time()\n",
    "\n",
    "TIME_DICT['humap_time'] = humap_end_time - humap_start_time\n",
    "y_l1 = hUmap.labels(1)"
   ]
  },
  {
   "cell_type": "code",
   "execution_count": 11,
   "id": "seeing-description",
   "metadata": {},
   "outputs": [],
   "source": [
    "project_into_space(humap_embedding_l1, y_l1)"
   ]
  },
  {
   "cell_type": "code",
   "execution_count": 16,
   "id": "60568ddf",
   "metadata": {},
   "outputs": [],
   "source": [
    "save_to_txt(humap_embedding_l1, y_l1, './reuters_embeddings_txt/reuters_tiny_humap_embedding.txt')"
   ]
  },
  {
   "cell_type": "code",
   "execution_count": 12,
   "id": "6493eb52",
   "metadata": {},
   "outputs": [],
   "source": [
    "TIME_DICT['humap_time']"
   ]
  },
  {
   "cell_type": "markdown",
   "id": "reliable-rates",
   "metadata": {},
   "source": [
    "### triMAP"
   ]
  },
  {
   "cell_type": "code",
   "execution_count": 14,
   "id": "piano-praise",
   "metadata": {},
   "outputs": [],
   "source": [
    "import trimap as trmp"
   ]
  },
  {
   "cell_type": "code",
   "execution_count": 21,
   "id": "c5d70980",
   "metadata": {},
   "outputs": [],
   "source": [
    "# List to store evaluation time for different metrics\n",
    "TIME_DICT['trimap_time'] = []"
   ]
  },
  {
   "cell_type": "code",
   "execution_count": 22,
   "id": "accepting-victory",
   "metadata": {},
   "outputs": [],
   "source": [
    "trimap_start_time = time.time()\n",
    "trimap_embedding_euclidean = trmp.TRIMAP(distance = 'euclidean').fit_transform(X_full)\n",
    "trimap_end_time = time.time()\n",
    "\n",
    "TIME_DICT['trimap_time'].append(trimap_end_time - trimap_start_time)"
   ]
  },
  {
   "cell_type": "code",
   "execution_count": 13,
   "id": "rental-indian",
   "metadata": {},
   "outputs": [],
   "source": [
    "project_into_space(trimap_embedding_euclidean, y_full)"
   ]
  },
  {
   "cell_type": "code",
   "execution_count": 25,
   "id": "22cc42a5",
   "metadata": {},
   "outputs": [],
   "source": [
    "save_to_txt(trimap_embedding_euclidean, y_full, \n",
    "            './reuters_embeddings_txt/reuters_full_trimap_euclidean_embedding.txt')"
   ]
  },
  {
   "cell_type": "code",
   "execution_count": 26,
   "id": "70aa577f",
   "metadata": {},
   "outputs": [],
   "source": [
    "trimap_start_time = time.time()\n",
    "trimap_embedding_manhattan = trmp.TRIMAP(distance = 'manhattan').fit_transform(X_full)\n",
    "trimap_end_time = time.time()\n",
    "\n",
    "TIME_DICT['trimap_time'].append(trimap_end_time - trimap_start_time)"
   ]
  },
  {
   "cell_type": "code",
   "execution_count": 14,
   "id": "d73aba8d",
   "metadata": {},
   "outputs": [],
   "source": [
    "project_into_space(trimap_embedding_manhattan, y_full)"
   ]
  },
  {
   "cell_type": "code",
   "execution_count": 28,
   "id": "58f7ee0d",
   "metadata": {},
   "outputs": [],
   "source": [
    "save_to_txt(trimap_embedding_manhattan, y_full, \n",
    "            './reuters_embeddings_txt/reuters_full_trimap_manhattan_embedding.txt')"
   ]
  },
  {
   "cell_type": "code",
   "execution_count": 29,
   "id": "dab66bdd",
   "metadata": {},
   "outputs": [],
   "source": [
    "trimap_start_time = time.time()\n",
    "trimap_embedding_cosine = trmp.TRIMAP(distance = 'cosine').fit_transform(X_full)\n",
    "trimap_end_time = time.time()\n",
    "\n",
    "TIME_DICT['trimap_time'].append(trimap_end_time - trimap_start_time)"
   ]
  },
  {
   "cell_type": "code",
   "execution_count": 15,
   "id": "dc01addd",
   "metadata": {},
   "outputs": [],
   "source": [
    "project_into_space(trimap_embedding_cosine, y_full)"
   ]
  },
  {
   "cell_type": "code",
   "execution_count": 31,
   "id": "caae0af6",
   "metadata": {},
   "outputs": [],
   "source": [
    "save_to_txt(trimap_embedding_cosine, y_full, \n",
    "            './reuters_embeddings_txt/reuters_full_trimap_cosine_embedding.txt')"
   ]
  },
  {
   "cell_type": "code",
   "execution_count": 16,
   "id": "ce09cdbf",
   "metadata": {},
   "outputs": [],
   "source": [
    "TIME_DICT['trimap_time']"
   ]
  },
  {
   "cell_type": "markdown",
   "id": "united-collaboration",
   "metadata": {},
   "source": [
    "### PacMAP"
   ]
  },
  {
   "cell_type": "code",
   "execution_count": 15,
   "id": "mysterious-fight",
   "metadata": {},
   "outputs": [],
   "source": [
    "import pacmap as pcmp"
   ]
  },
  {
   "cell_type": "code",
   "execution_count": 35,
   "id": "confidential-large",
   "metadata": {},
   "outputs": [],
   "source": [
    "pacmap_start_time = time.time()\n",
    "pacmap_embedding = pcmp.PaCMAP().fit_transform(X_full)\n",
    "pacmap_end_time = time.time()\n",
    "\n",
    "TIME_DICT['pacmap_time'] = pacmap_end_time - pacmap_start_time"
   ]
  },
  {
   "cell_type": "code",
   "execution_count": 17,
   "id": "through-warner",
   "metadata": {
    "scrolled": false
   },
   "outputs": [],
   "source": [
    "project_into_space(pacmap_embedding, y_full)"
   ]
  },
  {
   "cell_type": "code",
   "execution_count": 37,
   "id": "eba111b9",
   "metadata": {},
   "outputs": [],
   "source": [
    "save_to_txt(pacmap_embedding, y_full, \n",
    "            './reuters_embeddings_txt/reuters_full_pacmap_embedding.txt')"
   ]
  },
  {
   "cell_type": "code",
   "execution_count": 18,
   "id": "2069a0d3",
   "metadata": {},
   "outputs": [],
   "source": [
    "TIME_DICT['pacmap_time']"
   ]
  },
  {
   "cell_type": "markdown",
   "id": "5c3cd12a",
   "metadata": {},
   "source": [
    "### Isomap"
   ]
  },
  {
   "cell_type": "code",
   "execution_count": 17,
   "id": "metallic-iceland",
   "metadata": {},
   "outputs": [],
   "source": [
    "from sklearn.manifold import Isomap"
   ]
  },
  {
   "cell_type": "code",
   "execution_count": 40,
   "id": "08ae0bd2",
   "metadata": {},
   "outputs": [],
   "source": [
    "# List to store evaluation time for different metrics\n",
    "TIME_DICT['isomap_time'] = []"
   ]
  },
  {
   "cell_type": "code",
   "execution_count": 19,
   "id": "numerical-national",
   "metadata": {},
   "outputs": [],
   "source": [
    "isomap_start_time = time.time()\n",
    "isomap_embedding_minkowski = Isomap(n_components = 2, p = 1).fit_transform(X_tiny)\n",
    "isomap_end_time = time.time()\n",
    "\n",
    "TIME_DICT['isomap_time'].append(isomap_end_time - isomap_start_time)"
   ]
  },
  {
   "cell_type": "code",
   "execution_count": 20,
   "id": "champion-object",
   "metadata": {},
   "outputs": [],
   "source": [
    "project_into_space(isomap_embedding_minkowski, y_tiny)"
   ]
  },
  {
   "cell_type": "code",
   "execution_count": 43,
   "id": "94ac7736",
   "metadata": {},
   "outputs": [],
   "source": [
    "save_to_txt(isomap_embedding_minkowski, y_tiny, \n",
    "            './reuters_embeddings_txt/reuters_tiny_isomap_minkowski_embedding.txt')"
   ]
  },
  {
   "cell_type": "code",
   "execution_count": 21,
   "id": "a264131f",
   "metadata": {},
   "outputs": [],
   "source": [
    "isomap_start_time = time.time()\n",
    "isomap_embedding_euclidean = Isomap(n_components = 2, p = 2).fit_transform(X_tiny)\n",
    "isomap_end_time = time.time()\n",
    "\n",
    "TIME_DICT['isomap_time'].append(isomap_end_time - isomap_start_time)"
   ]
  },
  {
   "cell_type": "code",
   "execution_count": 22,
   "id": "53794a5e",
   "metadata": {},
   "outputs": [],
   "source": [
    "project_into_space(isomap_embedding_euclidean, y_tiny)"
   ]
  },
  {
   "cell_type": "code",
   "execution_count": 46,
   "id": "d99b61aa",
   "metadata": {},
   "outputs": [],
   "source": [
    "save_to_txt(isomap_embedding_euclidean, y_tiny, \n",
    "            './reuters_embeddings_txt/reuters_tiny_isomap_euclidean_embedding.txt')"
   ]
  },
  {
   "cell_type": "code",
   "execution_count": 24,
   "id": "8029d498",
   "metadata": {},
   "outputs": [],
   "source": [
    "isomap_start_time = time.time()\n",
    "isomap_embedding_cosine = Isomap(n_components = 2, metric = 'cosine').fit_transform(X_tiny)\n",
    "isomap_end_time = time.time()\n",
    "\n",
    "TIME_DICT['isomap_time'].append(isomap_end_time - isomap_start_time)"
   ]
  },
  {
   "cell_type": "code",
   "execution_count": 25,
   "id": "8b2220c0",
   "metadata": {},
   "outputs": [],
   "source": [
    "project_into_space(isomap_embedding_cosine, y_tiny)"
   ]
  },
  {
   "cell_type": "code",
   "execution_count": 49,
   "id": "ad4ea698",
   "metadata": {},
   "outputs": [],
   "source": [
    "save_to_txt(isomap_embedding_cosine, y_tiny, \n",
    "            './reuters_embeddings_txt/reuters_tiny_isomap_cosine_embedding.txt')"
   ]
  },
  {
   "cell_type": "code",
   "execution_count": 26,
   "id": "cd4c679a",
   "metadata": {},
   "outputs": [],
   "source": [
    "TIME_DICT['isomap_time']"
   ]
  },
  {
   "cell_type": "markdown",
   "id": "55319309",
   "metadata": {},
   "source": [
    "## IVHD"
   ]
  },
  {
   "cell_type": "markdown",
   "id": "f6a2c106",
   "metadata": {},
   "source": [
    "### Euclidean metric"
   ]
  },
  {
   "cell_type": "code",
   "execution_count": 27,
   "id": "c5479eaf",
   "metadata": {},
   "outputs": [],
   "source": [
    "# 3N, 3500 iterations\n",
    "ivhd_euclidean_3N_3500_iter  = pd.read_csv(\n",
    "    './reuters_embeddings_txt/reuters_full_ivhd_euclidean_3N_3500_iter.txt',\n",
    "                                           header = None)"
   ]
  },
  {
   "cell_type": "code",
   "execution_count": 28,
   "id": "cb9ee0b9",
   "metadata": {},
   "outputs": [],
   "source": [
    "ivhd_euclidean_3N_3500_iter = ivhd_euclidean_3N_3500_iter.iloc[:, :3]"
   ]
  },
  {
   "cell_type": "code",
   "execution_count": 27,
   "id": "5b73b1e7",
   "metadata": {},
   "outputs": [],
   "source": [
    "ivhd_euclidean_3N_3500_iter.columns = ['x', 'y', 'label']\n",
    "ivhd_euclidean_3N_3500_iter.head(10)"
   ]
  },
  {
   "cell_type": "code",
   "execution_count": 28,
   "id": "b1ccb7dd",
   "metadata": {},
   "outputs": [],
   "source": [
    "project_into_space(ivhd_euclidean_3N_3500_iter.values[:,:2], ivhd_euclidean_3N_3500_iter.values[:, -1])"
   ]
  },
  {
   "cell_type": "code",
   "execution_count": 30,
   "id": "d128563f",
   "metadata": {},
   "outputs": [],
   "source": [
    "# 2N, 3500 iterations\n",
    "ivhd_euclidean_2N_3500_iter  = pd.read_csv(\n",
    "    './reuters_embeddings_txt/reuters_full_ivhd_euclidean_2N_3500_iter.txt',\n",
    "                                           header = None)\n",
    "ivhd_euclidean_2N_3500_iter = ivhd_euclidean_2N_3500_iter.iloc[:, :3]\n",
    "ivhd_euclidean_2N_3500_iter.columns = ['x', 'y', 'label']\n",
    "project_into_space(ivhd_euclidean_2N_3500_iter.values[:,:2], ivhd_euclidean_2N_3500_iter.values[:, -1])"
   ]
  },
  {
   "cell_type": "markdown",
   "id": "819f016d",
   "metadata": {},
   "source": [
    "### Cosine metric"
   ]
  },
  {
   "cell_type": "code",
   "execution_count": 31,
   "id": "f2980b10",
   "metadata": {},
   "outputs": [],
   "source": [
    "# 3N, 3500 iterations\n",
    "ivhd_cosine_3N_3500_iter  = ivhd_cosine_3N_3500_iter  = pd.read_csv(\n",
    "    './reuters_embeddings_txt/reuters_full_ivhd_cosine_3N_3500_iter.txt',\n",
    "                                           header = None)\n",
    "ivhd_cosine_3N_3500_iter = ivhd_cosine_3N_3500_iter.iloc[:, :3]\n",
    "ivhd_cosine_3N_3500_iter.columns = ['x', 'y', 'label']\n",
    "project_into_space(ivhd_cosine_3N_3500_iter.values[:,:2], ivhd_cosine_3N_3500_iter.values[:, -1])"
   ]
  },
  {
   "cell_type": "code",
   "execution_count": 32,
   "id": "e877194b",
   "metadata": {},
   "outputs": [],
   "source": [
    "# 2N, 3500 iterations\n",
    "ivhd_cosine_2N_3500_iter  = pd.read_csv(\n",
    "    './reuters_embeddings_txt/reuters_full_ivhd_cosine_2N_3500_iter.txt',\n",
    "                                           header = None)\n",
    "ivhd_cosine_2N_3500_iter = ivhd_cosine_2N_3500_iter.iloc[:, :3]\n",
    "ivhd_cosine_2N_3500_iter.columns = ['x', 'y', 'label']\n",
    "project_into_space(ivhd_cosine_2N_3500_iter.values[:,:2], ivhd_cosine_2N_3500_iter.values[:, -1])"
   ]
  },
  {
   "cell_type": "markdown",
   "id": "russian-illinois",
   "metadata": {},
   "source": [
    "## Metrics"
   ]
  },
  {
   "cell_type": "markdown",
   "id": "1549a918",
   "metadata": {},
   "source": [
    "### Local score"
   ]
  },
  {
   "cell_type": "code",
   "execution_count": 60,
   "id": "descending-overhead",
   "metadata": {},
   "outputs": [],
   "source": [
    "import local_score"
   ]
  },
  {
   "cell_type": "code",
   "execution_count": 33,
   "id": "lonely-magnet",
   "metadata": {},
   "outputs": [],
   "source": [
    "local_metrics = local_score.LocalMetric()\n",
    "\n",
    "dataset = X_full\n",
    "labels = y_full\n",
    "\n",
    "X_embedded = X_umap_reuters_embedding\n",
    "method_name = \"umap\"\n",
    "\n",
    "local_metrics.calculate_knn_gain_and_dr_quality(\n",
    "    X_lds=X_embedded,\n",
    "    X_hds=dataset,\n",
    "    labels=np.array(labels),\n",
    "    method_name=method_name\n",
    ")\n",
    "\n",
    "# X_embedded = humap_embedding_l2\n",
    "# method_name = \"humap\"\n",
    "\n",
    "# local_metrics.calculate_knn_gain_and_dr_quality(\n",
    "#     X_lds=X_embedded,\n",
    "#     X_hds=dataset,\n",
    "#     labels=np.array(labels),\n",
    "#     method_name=method_name\n",
    "# )\n",
    "\n",
    "X_embedded = trimap_embedding_manhattan\n",
    "method_name = \"trimap\"\n",
    "\n",
    "local_metrics.calculate_knn_gain_and_dr_quality(\n",
    "    X_lds=X_embedded,\n",
    "    X_hds=dataset,\n",
    "    labels=np.array(labels),\n",
    "    method_name=method_name\n",
    ")\n",
    "\n",
    "X_embedded = pacmap_embedding\n",
    "method_name = \"pacmap\"\n",
    "\n",
    "local_metrics.calculate_knn_gain_and_dr_quality(\n",
    "    X_lds=X_embedded,\n",
    "    X_hds=dataset,\n",
    "    labels=np.array(labels),\n",
    "    method_name=method_name\n",
    ")\n",
    "\n",
    "# X_embedded = isomap_embedding_cosine\n",
    "# method_name = \"isomap\"\n",
    "\n",
    "# local_metrics.calculate_knn_gain_and_dr_quality(\n",
    "#     X_lds=X_embedded,\n",
    "#     X_hds=dataset,\n",
    "#     labels=np.array(labels),\n",
    "#     method_name=method_name\n",
    "# )\n",
    "\n",
    "X_embedded = ivhd_euclidean_2N_3500_iter.values[:,:2]\n",
    "method_name = \"IVHD\"\n",
    "\n",
    "local_metrics.calculate_knn_gain_and_dr_quality(\n",
    "    X_lds=X_embedded,\n",
    "    X_hds=dataset,\n",
    "    labels=np.array(labels),\n",
    "    method_name=method_name\n",
    ")\n",
    "\n",
    "local_metrics.visualize()"
   ]
  },
  {
   "cell_type": "markdown",
   "id": "4966fca4",
   "metadata": {},
   "source": [
    "### Distance matrices"
   ]
  },
  {
   "cell_type": "code",
   "execution_count": 87,
   "id": "c622e74c",
   "metadata": {},
   "outputs": [],
   "source": [
    "umap_embedding_tiny = X_umap_reuters_embedded[:SAMPLE_SIZE_TINY]\n",
    "humapl1_embedding_tiny = humap_embedding_l1[:SAMPLE_SIZE_TINY]\n",
    "isomap_embedding_euclidean_tiny = isomap_embedding_euclidean[:SAMPLE_SIZE_TINY]\n",
    "pacmap_embedding_tiny = pacmap_embedding[:SAMPLE_SIZE_TINY]\n",
    "trimap_embedding_euclidean_tiny = trimap_embedding_euclidean[:SAMPLE_SIZE_TINY]\n",
    "ivhd_embedding_euclidean_2N_3500_iter_tiny = ivhd_euclidean_2N_3500_iter[:SAMPLE_SIZE_TINY]\n",
    "\n",
    "dist_mx_humapl1_tiny = distance_matrix(humapl1_embedding_tiny, humapl1_embedding_tiny)\n",
    "dist_mx_umap_tiny = distance_matrix(umap_embedding_tiny, umap_embedding_tiny)\n",
    "dist_mx_isomap_tiny_eucl = distance_matrix(isomap_embedding_euclidean_tiny, isomap_embedding_euclidean_tiny)\n",
    "dist_mx_pacmap_tiny = distance_matrix(pacmap_embedding_tiny, pacmap_embedding_tiny)\n",
    "dist_mx_trimap_tiny_eucl = distance_matrix(trimap_embedding_euclidean_tiny, trimap_embedding_euclidean_tiny)\n",
    "dist_mx_ivhd_tiny = distance_matrix(ivhd_embedding_euclidean_2N_3500_iter_tiny, ivhd_embedding_euclidean_2N_3500_iter_tiny)"
   ]
  },
  {
   "cell_type": "code",
   "execution_count": 35,
   "id": "powered-traveler",
   "metadata": {},
   "outputs": [],
   "source": [
    "from scipy.spatial import distance_matrix\n",
    "\n",
    "# X is a design matrix which belongs to space R^{n x 2}, y is a vector of labels\n",
    "def calculate_metric(X, y):\n",
    "    \"\"\"Function returns a value of metric specified in the exercise\"\"\"\n",
    "    \n",
    "    df = pd.DataFrame(data = X, columns = ['C1', 'C2'])\n",
    "    df['labels'] = y\n",
    "    dist_same_class = []\n",
    "    n_elem_same_class = []\n",
    "    dist_different_class = []\n",
    "    n_elem_different_class = []\n",
    "    y_unique = df['labels'].drop_duplicates()\n",
    "    \n",
    "    for label in y_unique:\n",
    "        points_same_class = df[df['labels'] == label]\n",
    "        points_different_class = df[df['labels'] != label]\n",
    "        \n",
    "        dist_mat_same_class = distance_matrix(points_same_class, points_same_class, p=2)\n",
    "        dist_mat_different_class = distance_matrix(points_same_class, points_different_class, p=2)\n",
    "\n",
    "        # Sum over upper triangular of dist_mat matrix, we can do that this way because of this method is effective\n",
    "        dist_same_class.append((dist_mat_same_class.sum() - np.trace(dist_mat_same_class).sum())/2)\n",
    "        \n",
    "        reshaped_dist_mat_different_class = np.reshape(dist_mat_different_class,newshape = (1, -1))\n",
    "        dist_different_class.append(np.sum(reshaped_dist_mat_different_class))\n",
    "        \n",
    "        # Elements in upper triangular distance matrix between points from the same class without counting elements from diagonal\n",
    "        n_elem_same_class.append(((dist_mat_same_class.shape[0])**2 - dist_mat_same_class.shape[0]) / 2)\n",
    "        n_elem_different_class.append(len(dist_different_class))\n",
    "        \n",
    "    numerator = np.sum(dist_same_class) / np.sum(n_elem_same_class)\n",
    "    denominator = np.sum(dist_different_class) / np.sum(n_elem_different_class)\n",
    "    \n",
    "    # We use -log() function to get positive (in most cases) \"bigger\" number, without log operation we have very small value\n",
    "    return -round(np.log(numerator / denominator), 3)"
   ]
  },
  {
   "cell_type": "markdown",
   "id": "62266f2f",
   "metadata": {},
   "source": [
    "### Trustworthiness"
   ]
  },
  {
   "cell_type": "code",
   "execution_count": 96,
   "id": "52d39fbe",
   "metadata": {},
   "outputs": [],
   "source": [
    "def calculate_trust(dataset, embedding, name):\n",
    "    \"\"\"Function returns calculated trustworthiness measure\"\"\"\n",
    "    \n",
    "    from sklearn.manifold import trustworthiness    \n",
    "    print(f\"{name} done!\")\n",
    "    \n",
    "    return trustworthiness(dataset, embedding)\n"
   ]
  },
  {
   "cell_type": "code",
   "execution_count": 90,
   "id": "99bb5694",
   "metadata": {},
   "outputs": [
    {
     "name": "stdout",
     "output_type": "stream",
     "text": [
      "Umap tiny done!\n",
      "Isomap tiny euclidean done!\n",
      "Pacmap tiny done!\n",
      "Trimap tiny euclidean done!\n",
      "IVHD tiny done!\n"
     ]
    }
   ],
   "source": [
    "umap_trust_tiny = calculate_trust(X_tiny, umap_embedding_tiny, \"Umap tiny\")\n",
    "\n",
    "isomap_trust_tiny_eucl = calculate_trust(X_tiny, isomap_embedding_euclidean_tiny, \"Isomap tiny euclidean\")\n",
    "\n",
    "pacmap_trust_tiny = calculate_trust(X_tiny, pacmap_embedding_tiny, \"Pacmap tiny\")\n",
    "\n",
    "trimap_trust_tiny_eucl = calculate_trust(X_tiny, trimap_embedding_euclidean_tiny, \"Trimap tiny euclidean\")\n",
    "\n",
    "ivhd_trust_tiny_eucl_2N_3500_iter = calculate_trust(X_tiny, ivhd_embedding_euclidean_2N_3500_iter_tiny, \"IVHD tiny\")"
   ]
  },
  {
   "cell_type": "code",
   "execution_count": 92,
   "id": "fc2903bb",
   "metadata": {},
   "outputs": [],
   "source": [
    "TRUSTWORTHINESS_DICT['umap'] = umap_trust_tiny\n",
    "TRUSTWORTHINESS_DICT['isomap'] = isomap_trust_tiny_eucl\n",
    "TRUSTWORTHINESS_DICT['pacmap'] = pacmap_trust_tiny\n",
    "TRUSTWORTHINESS_DICT['trimap'] = trimap_trust_tiny_eucl\n",
    "TRUSTWORTHINESS_DICT['ivhd'] = ivhd_trust_tiny_eucl_2N_3500_iter"
   ]
  },
  {
   "cell_type": "code",
   "execution_count": 34,
   "id": "hungry-innocent",
   "metadata": {},
   "outputs": [],
   "source": [
    "TRUSTWORTHINESS_DICT"
   ]
  },
  {
   "cell_type": "code",
   "execution_count": 103,
   "id": "ec752617",
   "metadata": {},
   "outputs": [],
   "source": [
    "with open('./reuters_metrics/reuters_trust_metric.txt','w') as data: \n",
    "      data.write(str(TRUSTWORTHINESS_DICT))"
   ]
  },
  {
   "cell_type": "markdown",
   "id": "ec13d00e",
   "metadata": {},
   "source": [
    "### Shepard diagrams"
   ]
  },
  {
   "cell_type": "code",
   "execution_count": 39,
   "id": "f8077e48",
   "metadata": {},
   "outputs": [],
   "source": [
    "def plot_shepard_diagram(distance_matrix_embedded, distance_matrix_original):\n",
    "    \"\"\"Function plots diagram dependecy between distance of two points in output space and between corresponding points\n",
    "        in input space\n",
    "    \"\"\"\n",
    "    \n",
    "    try:\n",
    "        distance_matrix_embedded = np.matrix(distance_matrix_embedded)\n",
    "        distance_matrix_original = np.matrix(distance_matrix_original)\n",
    "    except:\n",
    "        print('Arguments should be able to convert to matrix-like objects')\n",
    "        return None\n",
    "    \n",
    "    # Triangular matrices\n",
    "    m = distance_matrix_embedded.shape[0]\n",
    "    r, c = np.triu_indices(m,1)\n",
    "    \n",
    "    dist_vec_embedded = np.array(distance_matrix_embedded[r, c])\n",
    "    dist_vec_original = np.array(distance_matrix_original[r, c])\n",
    "\n",
    "    dist_vec_embedded_reshaped = np.reshape(dist_vec_embedded, -1)\n",
    "    dist_vec_original_reshaped = np.reshape(dist_vec_original, -1)\n",
    "    \n",
    "    plt.figure(figsize=(16, 16), dpi=80)\n",
    "    plt.scatter(dist_vec_embedded_reshaped, dist_vec_original_reshaped)\n",
    "    plt.grid(True)\n",
    "    plt.show()\n"
   ]
  },
  {
   "cell_type": "code",
   "execution_count": 53,
   "id": "a40a813b",
   "metadata": {},
   "outputs": [],
   "source": [
    "SAMPLE_SIZE_TINY_TINY = 500\n",
    "X_tiny_tiny = X_full[:SAMPLE_SIZE_TINY_TINY]"
   ]
  },
  {
   "cell_type": "markdown",
   "id": "b427fc90",
   "metadata": {},
   "source": [
    "Tiny tiny embeddings"
   ]
  },
  {
   "cell_type": "code",
   "execution_count": 54,
   "id": "c8be61f7",
   "metadata": {},
   "outputs": [],
   "source": [
    "umap_reuters_tiny_tiny = umap.UMAP(random_state=42)\n",
    "X_umap_reuters_embedding_tiny_tiny = umap_reuters_tiny_tiny.fit_transform(X_tiny_tiny)"
   ]
  },
  {
   "cell_type": "code",
   "execution_count": 55,
   "id": "fe1d19c4",
   "metadata": {},
   "outputs": [],
   "source": [
    "trimap_embedding_euclidean_tiny_tiny = trmp.TRIMAP(distance = 'euclidean').fit_transform(X_tiny_tiny)"
   ]
  },
  {
   "cell_type": "code",
   "execution_count": 56,
   "id": "606b494f",
   "metadata": {},
   "outputs": [],
   "source": [
    "pacmap_embedding_tiny_tiny = pcmp.PaCMAP().fit_transform(X_tiny_tiny)"
   ]
  },
  {
   "cell_type": "code",
   "execution_count": 40,
   "id": "0b49f249",
   "metadata": {},
   "outputs": [],
   "source": [
    "isomap_embedding_euclidean_tiny_tiny = Isomap(n_components = 2, p = 1).fit_transform(X_tiny_tiny)"
   ]
  },
  {
   "cell_type": "markdown",
   "id": "66390c73",
   "metadata": {},
   "source": [
    "Distance matrices for tiny tiny embeddings and original dataset."
   ]
  },
  {
   "cell_type": "code",
   "execution_count": 58,
   "id": "ac07cfe0",
   "metadata": {},
   "outputs": [],
   "source": [
    "dist_mx_X_tiny_tiny = distance_matrix(X_tiny_tiny, X_tiny_tiny, p=2)"
   ]
  },
  {
   "cell_type": "code",
   "execution_count": 59,
   "id": "39748587",
   "metadata": {},
   "outputs": [],
   "source": [
    "umap_embedding_tiny_tiny = X_umap_reuters_embedding_tiny_tiny\n",
    "isomap_embedding_euclidean_tiny_tiny = isomap_embedding_euclidean_tiny_tiny\n",
    "pacmap_embedding_tiny_tiny = pacmap_embedding_tiny_tiny\n",
    "trimap_embedding_euclidean_tiny_tiny = trimap_embedding_euclidean_tiny_tiny\n",
    "ivhd_embedding_euclidean_2N_3500_iter_tiny_tiny = ivhd_euclidean_2N_3500_iter[:SAMPLE_SIZE_TINY_TINY]\n",
    "\n",
    "dist_mx_umap_tiny_tiny = distance_matrix(umap_embedding_tiny_tiny, umap_embedding_tiny_tiny)\n",
    "dist_mx_isomap_tiny_tiny_eucl = distance_matrix(isomap_embedding_euclidean_tiny_tiny, isomap_embedding_euclidean_tiny_tiny)\n",
    "dist_mx_pacmap_tiny_tiny = distance_matrix(pacmap_embedding_tiny_tiny, pacmap_embedding_tiny_tiny)\n",
    "dist_mx_trimap_tiny_tiny_eucl = distance_matrix(trimap_embedding_euclidean_tiny_tiny, trimap_embedding_euclidean_tiny_tiny)\n",
    "dist_mx_ivhd_tiny_tiny = distance_matrix(ivhd_embedding_euclidean_2N_3500_iter_tiny_tiny, ivhd_embedding_euclidean_2N_3500_iter_tiny_tiny)"
   ]
  },
  {
   "cell_type": "code",
   "execution_count": 39,
   "id": "a5c4a42b",
   "metadata": {},
   "outputs": [],
   "source": [
    "plot_shepard_diagram(dist_mx_umap_tiny_tiny, dist_mx_X_tiny_tiny)"
   ]
  },
  {
   "cell_type": "code",
   "execution_count": 38,
   "id": "79b8da1f",
   "metadata": {},
   "outputs": [],
   "source": [
    "plot_shepard_diagram(dist_mx_isomap_tiny_eucl, dist_mx_X_tiny_tiny)"
   ]
  },
  {
   "cell_type": "code",
   "execution_count": 37,
   "id": "a36f00a0",
   "metadata": {},
   "outputs": [],
   "source": [
    "plot_shepard_diagram(dist_mx_pacmap_tiny_tiny, dist_mx_X_tiny_tiny)"
   ]
  },
  {
   "cell_type": "code",
   "execution_count": 36,
   "id": "50016be9",
   "metadata": {},
   "outputs": [],
   "source": [
    "plot_shepard_diagram(dist_mx_trimap_tiny_tiny_eucl, dist_mx_X_tiny_tiny)"
   ]
  },
  {
   "cell_type": "code",
   "execution_count": 35,
   "id": "5a2bbd58",
   "metadata": {},
   "outputs": [],
   "source": [
    "plot_shepard_diagram(dist_mx_ivhd_tiny_tiny, dist_mx_X_tiny_tiny)"
   ]
  }
 ],
 "metadata": {
  "kernelspec": {
   "display_name": "Python 3 (ipykernel)",
   "language": "python",
   "name": "python3"
  },
  "language_info": {
   "codemirror_mode": {
    "name": "ipython",
    "version": 3
   },
   "file_extension": ".py",
   "mimetype": "text/x-python",
   "name": "python",
   "nbconvert_exporter": "python",
   "pygments_lexer": "ipython3",
   "version": "3.8.10"
  }
 },
 "nbformat": 4,
 "nbformat_minor": 5
}
